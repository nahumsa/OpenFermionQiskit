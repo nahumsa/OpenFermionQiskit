{
  "nbformat": 4,
  "nbformat_minor": 0,
  "metadata": {
    "colab": {
      "name": "Fermi-Hubbard.ipynb",
      "provenance": [],
      "collapsed_sections": [],
      "toc_visible": true,
      "authorship_tag": "ABX9TyNCexYTBHHdrVQXoG1PzEsG",
      "include_colab_link": true
    },
    "kernelspec": {
      "name": "python3",
      "display_name": "Python 3"
    }
  },
  "cells": [
    {
      "cell_type": "markdown",
      "metadata": {
        "id": "view-in-github",
        "colab_type": "text"
      },
      "source": [
        "<a href=\"https://colab.research.google.com/github/nahumsa/OpenFermionQiskit/blob/main/notebooks/Fermi-Hubbard.ipynb\" target=\"_parent\"><img src=\"https://colab.research.google.com/assets/colab-badge.svg\" alt=\"Open In Colab\"/></a>"
      ]
    },
    {
      "cell_type": "code",
      "metadata": {
        "id": "cpJr3ohKYG3y"
      },
      "source": [
        "from IPython.display import clear_output\n",
        "!pip install openfermion\n",
        "! pip install qiskit\n",
        "clear_output()"
      ],
      "execution_count": 1,
      "outputs": []
    },
    {
      "cell_type": "code",
      "metadata": {
        "id": "mgjlOS8KtHlE"
      },
      "source": [
        "! git clone https://github.com/nahumsa/OpenFermionQiskit.git\n",
        "% cd OpenFermionQiskit\n",
        "clear_output()"
      ],
      "execution_count": 2,
      "outputs": []
    },
    {
      "cell_type": "markdown",
      "metadata": {
        "id": "ePhFYAlZwYUC"
      },
      "source": [
        "# Fermi-Hubbard model\n",
        "\n",
        "Let's show the integration using a Fermi-Hubbard example."
      ]
    },
    {
      "cell_type": "code",
      "metadata": {
        "id": "PaTsNfm5YmmQ"
      },
      "source": [
        "from openfermion.utils import HubbardSquareLattice\n",
        "\n",
        "# HubbardSquareLattice parameters\n",
        "x_n = 2 # Number of sites in x\n",
        "y_n = 1 # Number of sites in y\n",
        "n_dofs = 1 # Degree of freedom\n",
        "periodic = False \n",
        "spinless = False \n",
        "\n",
        "lattice = HubbardSquareLattice(x_n, y_n, n_dofs=n_dofs, \n",
        "                               periodic=periodic, spinless=spinless)"
      ],
      "execution_count": 3,
      "outputs": []
    },
    {
      "cell_type": "code",
      "metadata": {
        "id": "zmhUfjZbp8gY"
      },
      "source": [
        "import networkx as nx\n",
        "import matplotlib.pyplot as plt\n",
        "\n",
        "G = nx.Graph()\n",
        "for neighbors in lattice.neighbors_iter():\n",
        "  G.add_edge(*neighbors)"
      ],
      "execution_count": 4,
      "outputs": []
    },
    {
      "cell_type": "code",
      "metadata": {
        "id": "WNtsjif-pVnU",
        "outputId": "ab6dde96-e040-4236-8de8-29854a533832",
        "colab": {
          "base_uri": "https://localhost:8080/",
          "height": 248
        }
      },
      "source": [
        "pos = nx.spring_layout(G)\n",
        "options = {\"node_size\": 200, \"alpha\": 1.}\n",
        "nx.draw_networkx_nodes(G, pos, nodelist=list(G.nodes), \n",
        "                       node_color=\"r\", **options)\n",
        "nx.draw_networkx_edges(G,pos,edgelist=list(G.edges),\n",
        "                       width=8, edge_color=\"b\")\n",
        "plt.show()"
      ],
      "execution_count": 5,
      "outputs": [
        {
          "output_type": "display_data",
          "data": {
            "image/png": "[encoded data removed]",
            "text/plain": [
              "<Figure size 432x288 with 1 Axes>"
            ]
          },
          "metadata": {
            "tags": []
          }
        }
      ]
    },
    {
      "cell_type": "code",
      "metadata": {
        "id": "xb7oZlMxZLRc",
        "outputId": "f57acaca-3c47-4f84-df43-c1debffac0b6",
        "colab": {
          "base_uri": "https://localhost:8080/"
        }
      },
      "source": [
        "from openfermion.hamiltonians import FermiHubbardModel\n",
        "from openfermion.utils import SpinPairs\n",
        "\n",
        "t = 1.\n",
        "tunneling = [('neighbor', (0, 0), t)] \n",
        "U = 3.\n",
        "interaction = [('onsite', (0, 0), U, SpinPairs.DIFF)] \n",
        "\n",
        "potential = [(0, U/2.)] # Must be U/2 for half-filling\n",
        "mag_field = 0. \n",
        "particle_hole_sym = False\n",
        "\n",
        "hubbard = FermiHubbardModel(lattice , tunneling_parameters=tunneling, \n",
        "                            interaction_parameters=interaction, \n",
        "                            potential_parameters=potential, magnetic_field=mag_field, \n",
        "                            particle_hole_symmetry=particle_hole_sym)\n",
        "\n",
        "hamiltonian = hubbard.hamiltonian()\n",
        "print('Hamiltonian:\\n', hamiltonian)"
      ],
      "execution_count": 6,
      "outputs": [
        {
          "output_type": "stream",
          "text": [
            "Hamiltonian:\n",
            " -1.5 [0^ 0] +\n",
            "3.0 [0^ 0 1^ 1] +\n",
            "-1.0 [0^ 2] +\n",
            "-1.5 [1^ 1] +\n",
            "-1.0 [1^ 3] +\n",
            "-1.0 [2^ 0] +\n",
            "-1.5 [2^ 2] +\n",
            "3.0 [2^ 2 3^ 3] +\n",
            "-1.0 [3^ 1] +\n",
            "-1.5 [3^ 3]\n"
          ],
          "name": "stdout"
        }
      ]
    },
    {
      "cell_type": "code",
      "metadata": {
        "id": "_2TaP4khyNCS",
        "outputId": "fea9f6b2-4390-47ff-f17e-90e6fbe34821",
        "colab": {
          "base_uri": "https://localhost:8080/",
          "height": 40
        }
      },
      "source": [
        "from IPython.display import display, Math, Latex\n",
        "from openfermionqiskit.utils import latex_string_f_operator\n",
        "  \n",
        "latex_fop = latex_string_f_operator(hamiltonian)\n",
        "# print(latex_fop)\n",
        "display(Math(latex_fop))"
      ],
      "execution_count": 11,
      "outputs": [
        {
          "output_type": "display_data",
          "data": {
            "text/latex": "$$-1.0a_0^\\dagger a_2 -1.0a_2^\\dagger a_0 -1.0a_1^\\dagger a_3 -1.0a_3^\\dagger a_1 +3.0a_0^\\dagger a_0 a_1^\\dagger a_1 +3.0a_2^\\dagger a_2 a_3^\\dagger a_3 -1.5a_0^\\dagger a_0 -1.5a_1^\\dagger a_1 -1.5a_2^\\dagger a_2 -1.5a_3^\\dagger a_3 $$",
            "text/plain": [
              "<IPython.core.display.Math object>"
            ]
          },
          "metadata": {
            "tags": []
          }
        }
      ]
    },
    {
      "cell_type": "code",
      "metadata": {
        "id": "eGd-SI69dMwe",
        "outputId": "9847a128-0e8f-48f5-c4b1-67809737b388",
        "colab": {
          "base_uri": "https://localhost:8080/"
        }
      },
      "source": [
        "from openfermion.utils import get_ground_state\n",
        "from openfermion.transforms import get_sparse_operator\n",
        "\n",
        "# Get scipy.sparse.csc representation.\n",
        "sparse_operator = get_sparse_operator(hamiltonian)\n",
        "energy = get_ground_state(sparse_operator)[0]\n",
        "print(f'Energy of the model is {energy}.')"
      ],
      "execution_count": 12,
      "outputs": [
        {
          "output_type": "stream",
          "text": [
            "Energy of the model is -3.9999999999999964.\n"
          ],
          "name": "stdout"
        }
      ]
    },
    {
      "cell_type": "markdown",
      "metadata": {
        "id": "akyPOIGhwcAj"
      },
      "source": [
        "# Converting to qiskit and running on VQE"
      ]
    },
    {
      "cell_type": "code",
      "metadata": {
        "id": "uagEvb-_iTRw",
        "outputId": "7ea21213-2af8-44a9-8cc3-6bcfa730031b",
        "colab": {
          "base_uri": "https://localhost:8080/"
        }
      },
      "source": [
        "from openfermionqiskit.converters import QiskitConverter\n",
        "\n",
        "h_Op = QiskitConverter(hamiltonian=hamiltonian, map_type='jw')\n",
        "print(h_Op.pauli_op)"
      ],
      "execution_count": 13,
      "outputs": [
        {
          "output_type": "stream",
          "text": [
            "SummedOp([\n",
            "  (-0.5+0j) * YZYI,\n",
            "  (-0.5+0j) * XZXI,\n",
            "  (-0.5+0j) * IYZY,\n",
            "  (-0.5+0j) * IXZX,\n",
            "  (0.75+0j) * ZZII,\n",
            "  (0.75+0j) * IIZZ,\n",
            "  (-1.5+0j) * IIII\n",
            "])\n"
          ],
          "name": "stdout"
        }
      ]
    },
    {
      "cell_type": "code",
      "metadata": {
        "id": "nrvTMSeKx1kd"
      },
      "source": [
        "from qiskit.aqua.algorithms import VQE\n",
        "from qiskit.circuit.library import TwoLocal\n",
        "from qiskit.aqua.components.optimizers import COBYLA\n",
        "import numpy as np"
      ],
      "execution_count": 14,
      "outputs": []
    },
    {
      "cell_type": "code",
      "metadata": {
        "id": "3qLC4iGzWdkp"
      },
      "source": [
        "def create_var_form(qubits, n_cx, reps, one_qubit_gates=['ry','rz']):\n",
        "  return TwoLocal(qubits, one_qubit_gates, ['cx']*n_cx, reps=reps)  "
      ],
      "execution_count": 15,
      "outputs": []
    },
    {
      "cell_type": "code",
      "metadata": {
        "id": "GGs9X7LiyZkU"
      },
      "source": [
        "var_form = create_var_form(qubits=h_Op.n_qubits, n_cx=5, reps=3) \n",
        "optimizer = COBYLA()\n",
        "vqe = VQE(h_Op.pauli_op, var_form, optimizer)"
      ],
      "execution_count": 16,
      "outputs": []
    },
    {
      "cell_type": "code",
      "metadata": {
        "id": "Z4-RnJbozH_r"
      },
      "source": [
        "from qiskit import Aer\n",
        "from qiskit.aqua import QuantumInstance\n",
        "import numpy as np\n",
        "\n",
        "backend = Aer.get_backend(\"statevector_simulator\")\n",
        "quantum_instance = QuantumInstance(backend=backend, \n",
        "                                   shots=5000,)\n",
        "vqe_result = np.real(vqe.run(backend)['eigenvalue'])"
      ],
      "execution_count": 17,
      "outputs": []
    },
    {
      "cell_type": "code",
      "metadata": {
        "id": "05JPNbyFzdMC",
        "outputId": "85834edb-fd47-4a61-842f-dee57cb3e36e",
        "colab": {
          "base_uri": "https://localhost:8080/"
        }
      },
      "source": [
        "print(f\"Error: {np.round(np.abs((vqe_result - energy)/energy)*100, 2)}%\")"
      ],
      "execution_count": 18,
      "outputs": [
        {
          "output_type": "stream",
          "text": [
            "Error: 0.01%\n"
          ],
          "name": "stdout"
        }
      ]
    }
  ]
}